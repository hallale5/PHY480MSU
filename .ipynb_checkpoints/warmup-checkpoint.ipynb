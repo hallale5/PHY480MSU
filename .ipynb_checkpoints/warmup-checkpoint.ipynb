{
 "cells": [
  {
   "cell_type": "markdown",
   "metadata": {},
   "source": [
    "This notebook is for the warmup exercise\n",
    "\n",
    "https://github.com/CompPhysics/ComputationalPhysicsMSU/blob/master/doc/Projects/2017/WarmUpExercise/warmup.pdf\n",
    "\n",
    "\n",
    "computing the derivative of f(x)= tan-1(x)\n",
    "\n",
    "x= sqrt(2)\n",
    "\n",
    "steps are increments of h\n",
    "\n",
    "the exact answer is 1/3\n",
    "\n",
    "f'2c (x) = (f(x+h) -f(x))/h + O(h)\n",
    "\n",
    "f'3c (x) = (f(x+h) - f(x-h)) /2h + O(h^2)"
   ]
  },
  {
   "cell_type": "code",
   "execution_count": null,
   "metadata": {
    "collapsed": true
   },
   "outputs": [],
   "source": [
    "import math\n"
   ]
  }
 ],
 "metadata": {
  "kernelspec": {
   "display_name": "Python 3",
   "language": "python",
   "name": "python3"
  },
  "language_info": {
   "codemirror_mode": {
    "name": "ipython",
    "version": 3
   },
   "file_extension": ".py",
   "mimetype": "text/x-python",
   "name": "python",
   "nbconvert_exporter": "python",
   "pygments_lexer": "ipython3",
   "version": "3.5.1"
  }
 },
 "nbformat": 4,
 "nbformat_minor": 0
}
